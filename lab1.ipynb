{
 "cells": [
  {
   "cell_type": "code",
   "execution_count": 1,
   "metadata": {
    "collapsed": true
   },
   "outputs": [],
   "source": [
    "import numpy as np\n",
    "from sklearn.datasets import load_iris"
   ]
  },
  {
   "cell_type": "code",
   "execution_count": 2,
   "metadata": {
    "collapsed": true
   },
   "outputs": [],
   "source": [
    "data = load_iris()"
   ]
  },
  {
   "cell_type": "code",
   "execution_count": 3,
   "metadata": {
    "collapsed": false
   },
   "outputs": [
    {
     "name": "stdout",
     "output_type": "stream",
     "text": [
      "Iris Plants Database\n",
      "\n",
      "Notes\n",
      "-----\n",
      "Data Set Characteristics:\n",
      "    :Number of Instances: 150 (50 in each of three classes)\n",
      "    :Number of Attributes: 4 numeric, predictive attributes and the class\n",
      "    :Attribute Information:\n",
      "        - sepal length in cm\n",
      "        - sepal width in cm\n",
      "        - petal length in cm\n",
      "        - petal width in cm\n",
      "        - class:\n",
      "                - Iris-Setosa\n",
      "                - Iris-Versicolour\n",
      "                - Iris-Virginica\n",
      "    :Summary Statistics:\n",
      "\n",
      "    ============== ==== ==== ======= ===== ====================\n",
      "                    Min  Max   Mean    SD   Class Correlation\n",
      "    ============== ==== ==== ======= ===== ====================\n",
      "    sepal length:   4.3  7.9   5.84   0.83    0.7826\n",
      "    sepal width:    2.0  4.4   3.05   0.43   -0.4194\n",
      "    petal length:   1.0  6.9   3.76   1.76    0.9490  (high!)\n",
      "    petal width:    0.1  2.5   1.20  0.76     0.9565  (high!)\n",
      "    ============== ==== ==== ======= ===== ====================\n",
      "\n",
      "    :Missing Attribute Values: None\n",
      "    :Class Distribution: 33.3% for each of 3 classes.\n",
      "    :Creator: R.A. Fisher\n",
      "    :Donor: Michael Marshall (MARSHALL%PLU@io.arc.nasa.gov)\n",
      "    :Date: July, 1988\n",
      "\n",
      "This is a copy of UCI ML iris datasets.\n",
      "http://archive.ics.uci.edu/ml/datasets/Iris\n",
      "\n",
      "The famous Iris database, first used by Sir R.A Fisher\n",
      "\n",
      "This is perhaps the best known database to be found in the\n",
      "pattern recognition literature.  Fisher's paper is a classic in the field and\n",
      "is referenced frequently to this day.  (See Duda & Hart, for example.)  The\n",
      "data set contains 3 classes of 50 instances each, where each class refers to a\n",
      "type of iris plant.  One class is linearly separable from the other 2; the\n",
      "latter are NOT linearly separable from each other.\n",
      "\n",
      "References\n",
      "----------\n",
      "   - Fisher,R.A. \"The use of multiple measurements in taxonomic problems\"\n",
      "     Annual Eugenics, 7, Part II, 179-188 (1936); also in \"Contributions to\n",
      "     Mathematical Statistics\" (John Wiley, NY, 1950).\n",
      "   - Duda,R.O., & Hart,P.E. (1973) Pattern Classification and Scene Analysis.\n",
      "     (Q327.D83) John Wiley & Sons.  ISBN 0-471-22361-1.  See page 218.\n",
      "   - Dasarathy, B.V. (1980) \"Nosing Around the Neighborhood: A New System\n",
      "     Structure and Classification Rule for Recognition in Partially Exposed\n",
      "     Environments\".  IEEE Transactions on Pattern Analysis and Machine\n",
      "     Intelligence, Vol. PAMI-2, No. 1, 67-71.\n",
      "   - Gates, G.W. (1972) \"The Reduced Nearest Neighbor Rule\".  IEEE Transactions\n",
      "     on Information Theory, May 1972, 431-433.\n",
      "   - See also: 1988 MLC Proceedings, 54-64.  Cheeseman et al\"s AUTOCLASS II\n",
      "     conceptual clustering system finds 3 classes in the data.\n",
      "   - Many, many more ...\n",
      "\n"
     ]
    }
   ],
   "source": [
    "print data.DESCR"
   ]
  },
  {
   "cell_type": "markdown",
   "metadata": {},
   "source": [
    "sepal - чашелистник<br>\n",
    "petal - лепесток"
   ]
  },
  {
   "cell_type": "code",
   "execution_count": 4,
   "metadata": {
    "collapsed": false
   },
   "outputs": [
    {
     "data": {
      "text/plain": [
       "(150, 4)"
      ]
     },
     "execution_count": 4,
     "metadata": {},
     "output_type": "execute_result"
    }
   ],
   "source": [
    "data.data.shape"
   ]
  },
  {
   "cell_type": "code",
   "execution_count": 5,
   "metadata": {
    "collapsed": false
   },
   "outputs": [
    {
     "data": {
      "text/plain": [
       "['sepal length (cm)',\n",
       " 'sepal width (cm)',\n",
       " 'petal length (cm)',\n",
       " 'petal width (cm)']"
      ]
     },
     "execution_count": 5,
     "metadata": {},
     "output_type": "execute_result"
    }
   ],
   "source": [
    "data.feature_names"
   ]
  },
  {
   "cell_type": "code",
   "execution_count": 6,
   "metadata": {
    "collapsed": false
   },
   "outputs": [
    {
     "data": {
      "text/plain": [
       "array([0, 0, 0, 0, 0, 0, 0, 0, 0, 0, 0, 0, 0, 0, 0, 0, 0, 0, 0, 0, 0, 0, 0,\n",
       "       0, 0, 0, 0, 0, 0, 0, 0, 0, 0, 0, 0, 0, 0, 0, 0, 0, 0, 0, 0, 0, 0, 0,\n",
       "       0, 0, 0, 0, 1, 1, 1, 1, 1, 1, 1, 1, 1, 1, 1, 1, 1, 1, 1, 1, 1, 1, 1,\n",
       "       1, 1, 1, 1, 1, 1, 1, 1, 1, 1, 1, 1, 1, 1, 1, 1, 1, 1, 1, 1, 1, 1, 1,\n",
       "       1, 1, 1, 1, 1, 1, 1, 1, 2, 2, 2, 2, 2, 2, 2, 2, 2, 2, 2, 2, 2, 2, 2,\n",
       "       2, 2, 2, 2, 2, 2, 2, 2, 2, 2, 2, 2, 2, 2, 2, 2, 2, 2, 2, 2, 2, 2, 2,\n",
       "       2, 2, 2, 2, 2, 2, 2, 2, 2, 2, 2, 2])"
      ]
     },
     "execution_count": 6,
     "metadata": {},
     "output_type": "execute_result"
    }
   ],
   "source": [
    "data.target"
   ]
  },
  {
   "cell_type": "code",
   "execution_count": 7,
   "metadata": {
    "collapsed": false
   },
   "outputs": [
    {
     "data": {
      "text/plain": [
       "array(['setosa', 'versicolor', 'virginica'], \n",
       "      dtype='|S10')"
      ]
     },
     "execution_count": 7,
     "metadata": {},
     "output_type": "execute_result"
    }
   ],
   "source": [
    "data.target_names"
   ]
  },
  {
   "cell_type": "code",
   "execution_count": 73,
   "metadata": {
    "collapsed": false
   },
   "outputs": [],
   "source": [
    "# normalization\n",
    "transpose_data = data.data.transpose()\n",
    "for i in range(data.data.shape[1]):\n",
    "    max_value = transpose_data[i].max()\n",
    "    transpose_data[i] = transpose_data[i] / max_value\n",
    "data.data = transpose_data.transpose()"
   ]
  },
  {
   "cell_type": "code",
   "execution_count": 74,
   "metadata": {
    "collapsed": false
   },
   "outputs": [],
   "source": [
    "setosa_data = data.data[:50, :]\n",
    "versicolor_data = data.data[50:100, :]\n",
    "virginica_data = data.data[100:, :]"
   ]
  },
  {
   "cell_type": "code",
   "execution_count": 75,
   "metadata": {
    "collapsed": false
   },
   "outputs": [
    {
     "data": {
      "text/plain": [
       "array([[ 0.2173913 ,  0.64556962,  0.86363636,  0.12      ],\n",
       "       [ 0.23188406,  0.60759494,  0.70454545,  0.08      ],\n",
       "       [ 0.2173913 ,  0.64556962,  0.77272727,  0.08      ],\n",
       "       [ 0.2173913 ,  0.58227848,  0.70454545,  0.08      ],\n",
       "       [ 0.24637681,  0.72151899,  0.86363636,  0.12      ],\n",
       "       [ 0.1884058 ,  0.69620253,  0.79545455,  0.08      ],\n",
       "       [ 0.27536232,  0.60759494,  0.77272727,  0.08      ],\n",
       "       [ 0.1884058 ,  0.63291139,  0.79545455,  0.12      ],\n",
       "       [ 0.2173913 ,  0.62025316,  0.70454545,  0.04      ],\n",
       "       [ 0.20289855,  0.63291139,  0.81818182,  0.08      ],\n",
       "       [ 0.2173913 ,  0.67088608,  0.84090909,  0.08      ],\n",
       "       [ 0.20289855,  0.62025316,  0.68181818,  0.08      ],\n",
       "       [ 0.27536232,  0.64556962,  0.86363636,  0.16      ],\n",
       "       [ 0.23188406,  0.63291139,  0.79545455,  0.24      ],\n",
       "       [ 0.23188406,  0.60759494,  0.77272727,  0.08      ],\n",
       "       [ 0.1884058 ,  0.55696203,  0.72727273,  0.08      ],\n",
       "       [ 0.2173913 ,  0.63291139,  0.77272727,  0.08      ],\n",
       "       [ 0.2173913 ,  0.6835443 ,  0.77272727,  0.16      ],\n",
       "       [ 0.1884058 ,  0.55696203,  0.68181818,  0.08      ],\n",
       "       [ 0.23188406,  0.63291139,  0.68181818,  0.08      ],\n",
       "       [ 0.2173913 ,  0.6835443 ,  0.84090909,  0.08      ],\n",
       "       [ 0.2173913 ,  0.65822785,  0.79545455,  0.08      ],\n",
       "       [ 0.2173913 ,  0.62025316,  0.70454545,  0.04      ],\n",
       "       [ 0.20289855,  0.58227848,  0.77272727,  0.12      ],\n",
       "       [ 0.1884058 ,  0.56962025,  0.52272727,  0.12      ],\n",
       "       [ 0.23188406,  0.63291139,  0.77272727,  0.16      ],\n",
       "       [ 0.23188406,  0.59493671,  0.72727273,  0.08      ],\n",
       "       [ 0.15942029,  0.5443038 ,  0.68181818,  0.04      ],\n",
       "       [ 0.17391304,  0.73417722,  0.90909091,  0.08      ],\n",
       "       [ 0.1884058 ,  0.6835443 ,  0.88636364,  0.16      ],\n",
       "       [ 0.1884058 ,  0.59493671,  0.72727273,  0.08      ],\n",
       "       [ 0.20289855,  0.60759494,  0.68181818,  0.04      ],\n",
       "       [ 0.24637681,  0.6835443 ,  0.77272727,  0.08      ],\n",
       "       [ 0.20289855,  0.63291139,  0.75      ,  0.08      ],\n",
       "       [ 0.2173913 ,  0.72151899,  1.        ,  0.16      ],\n",
       "       [ 0.23188406,  0.64556962,  0.86363636,  0.08      ],\n",
       "       [ 0.24637681,  0.6835443 ,  0.88636364,  0.16      ],\n",
       "       [ 0.2173913 ,  0.65822785,  0.93181818,  0.04      ],\n",
       "       [ 0.20289855,  0.60759494,  0.68181818,  0.12      ],\n",
       "       [ 0.20289855,  0.69620253,  0.95454545,  0.08      ],\n",
       "       [ 0.17391304,  0.63291139,  0.72727273,  0.08      ],\n",
       "       [ 0.24637681,  0.64556962,  0.75      ,  0.2       ],\n",
       "       [ 0.20289855,  0.58227848,  0.72727273,  0.08      ],\n",
       "       [ 0.20289855,  0.64556962,  0.79545455,  0.12      ],\n",
       "       [ 0.2173913 ,  0.62025316,  0.70454545,  0.04      ],\n",
       "       [ 0.14492754,  0.58227848,  0.81818182,  0.08      ],\n",
       "       [ 0.2173913 ,  0.64556962,  0.84090909,  0.16      ],\n",
       "       [ 0.20289855,  0.55696203,  0.65909091,  0.08      ],\n",
       "       [ 0.20289855,  0.64556962,  0.79545455,  0.08      ],\n",
       "       [ 0.20289855,  0.65822785,  0.77272727,  0.08      ]])"
      ]
     },
     "execution_count": 75,
     "metadata": {},
     "output_type": "execute_result"
    }
   ],
   "source": [
    "setosa_data"
   ]
  },
  {
   "cell_type": "code",
   "execution_count": 76,
   "metadata": {
    "collapsed": false
   },
   "outputs": [],
   "source": [
    "np.random.shuffle(setosa_data)\n",
    "np.random.shuffle(versicolor_data)\n",
    "np.random.shuffle(virginica_data)"
   ]
  },
  {
   "cell_type": "code",
   "execution_count": 77,
   "metadata": {
    "collapsed": false
   },
   "outputs": [],
   "source": [
    "setosa_data_train = setosa_data[:40]\n",
    "setosa_data_test = setosa_data[40:]\n",
    "\n",
    "versicolor_data_train = versicolor_data[:40]\n",
    "versicolor_data_test = versicolor_data[40:]\n",
    "\n",
    "virginica_data_train = virginica_data[:40]\n",
    "virginica_data_test = virginica_data[40:]"
   ]
  },
  {
   "cell_type": "markdown",
   "metadata": {},
   "source": [
    "$$ρ(𝑢, 𝑥_𝑖 )=\\sqrt{∑_{𝑗=1}^{𝑛}(|𝑢^𝑗−𝑥_𝑖^𝑗|^2)} $$"
   ]
  },
  {
   "cell_type": "code",
   "execution_count": 78,
   "metadata": {
    "collapsed": true
   },
   "outputs": [],
   "source": [
    "def distance(u, x):\n",
    "    diff = u - x\n",
    "    return np.dot(np.transpose(diff), diff) ** 0.5    "
   ]
  },
  {
   "cell_type": "markdown",
   "metadata": {
    "collapsed": true
   },
   "source": [
    "Написать функции всех метрических алгоритмов, которые были на слайдах (ближайшего соседа, k ближайших соседей, k взвешанных ближайших соседей, метод окна Парзена, метод потенциальных функций). Применить (обучить) все эти алгоритмы на train выборке. Построить матрицу неточностей, для каждого класса вывести точность и полноту (все это сделать на тестовой выборке). Не пользоваться стандартными функциями."
   ]
  },
  {
   "cell_type": "code",
   "execution_count": 79,
   "metadata": {
    "collapsed": false
   },
   "outputs": [],
   "source": [
    "class Classifier(object):    \n",
    "    def __init__(self, distance):\n",
    "        self.distance = distance\n",
    "        \n",
    "    def fit(self, X, y, n_classes):\n",
    "        self.X_train = X\n",
    "        self.y_train = y\n",
    "        self.n_classes = n_classes\n",
    "        \n",
    "    def countDistances(self, u):\n",
    "        distances = []\n",
    "        for i in range(len(self.X_train)):\n",
    "            distances.append([self.distance(u, X_train[i]), i])\n",
    "        return distances        "
   ]
  },
  {
   "cell_type": "code",
   "execution_count": 80,
   "metadata": {
    "collapsed": false
   },
   "outputs": [],
   "source": [
    "class WeightKnn(Classifier):\n",
    "    def predictElement(self, u, distances): \n",
    "        classes = [0 for i in range(self.n_classes)]\n",
    "        sorted_distances = sorted(distances)\n",
    "        for s in sorted_distances[0:self.k_neighbors]:\n",
    "            classes[y_train[s[1]]] += self.weight(X_train[i], u)\n",
    "        return  sorted(range(len(classes)), key=lambda i : classes[i], reverse=True)[0]\n",
    "    \n",
    "    def predict(self, X, k_neighbors, weight):\n",
    "        self.k_neighbors = k_neighbors\n",
    "        self.weight = weight\n",
    "        predicted = []\n",
    "        for x in X:\n",
    "            distances = self.countDistances(x)\n",
    "            predicted.append(self.predictElement(x, distances))\n",
    "        return predicted   "
   ]
  },
  {
   "cell_type": "code",
   "execution_count": 81,
   "metadata": {
    "collapsed": true
   },
   "outputs": [],
   "source": [
    "class Knn(WeightKnn):\n",
    "    def predict(self, X, k_neighbors):\n",
    "        return super(Knn, self).predict(X, k_neighbors, lambda x, y: 1)\n",
    "    "
   ]
  },
  {
   "cell_type": "code",
   "execution_count": 82,
   "metadata": {
    "collapsed": true
   },
   "outputs": [],
   "source": [
    "class Parzen(WeightKnn):\n",
    "    def predictParzenElement(self, u):\n",
    "        distances = self.countDistances(u)\n",
    "        classes = [0 for i in range(self.n_classes)]\n",
    "        h = sorted(distances)[self.k_neighbors - 1]\n",
    "        self.weight = lambda x, u: Kernel(self.distance(u, x) / h)\n",
    "        return self.predictElement(distances) \n",
    "    \n",
    "    def predict(self, X, k_neighbors, kernel):\n",
    "        self.kernel = kernel\n",
    "        self.k_neighbors = k_neighbors\n",
    "        predicted = []\n",
    "        for x in X:\n",
    "            predicted.append(self.predictParzenElement(x))\n",
    "        return predicted \n",
    "    \n",
    "    def predictFixedWindow(self, X, k_neighbors, kernel, h):\n",
    "        return self.predict(X, lambda x, u: kernel(self.distance(u, x) / h), k_neigbors)     \n",
    "    \n"
   ]
  },
  {
   "cell_type": "code",
   "execution_count": 83,
   "metadata": {
    "collapsed": true
   },
   "outputs": [],
   "source": [
    "def Potential(WeightKnn):\n",
    "    def predictPotentialElement(self, u):\n",
    "        distances = self.countDistances(u)\n",
    "        classes = [0 for i in range(self.n_classes)]\n",
    "        h = sorted(distances)[self.k_neighbors - 1]\n",
    "        self.weight = lambda x, u: Kernel(self.distance(u, x) / h)\n",
    "        return self.predictElement(distances) \n",
    "    \n",
    "    def predict(self, X, kernel, potentials, radii):\n",
    "        self.kernel = kernel\n",
    "        self.potentials = potentials\n",
    "        self.radii = radii\n",
    "        predicted = []\n",
    "        for x in X:\n",
    "            predicted.append(self.predictPotentialElement(x))\n",
    "        return predicted\n",
    "        "
   ]
  },
  {
   "cell_type": "code",
   "execution_count": 84,
   "metadata": {
    "collapsed": true
   },
   "outputs": [],
   "source": [
    "def kernel1(r):\n",
    "    if r < 0 or r > 1:\n",
    "        return 0\n",
    "    return 0.75 * ((1 - r) ** 2)"
   ]
  },
  {
   "cell_type": "code",
   "execution_count": 85,
   "metadata": {
    "collapsed": false
   },
   "outputs": [],
   "source": [
    "X_train = []\n",
    "X_train.extend(setosa_data_train)\n",
    "X_train.extend(versicolor_data_train)\n",
    "X_train.extend(virginica_data_train)\n",
    "\n",
    "y_train = [0 for i in range(40)]\n",
    "y_train.extend([1 for i in range(40)])\n",
    "y_train.extend([2 for i in range(40)])\n",
    "\n",
    "X_test = []\n",
    "X_test.extend(setosa_data_test)\n",
    "X_test.extend(versicolor_data_test)\n",
    "X_test.extend(virginica_data_test)\n",
    "\n",
    "y_test = [0 for i in range(10)]\n",
    "y_test.extend([1 for i in range(10)])\n",
    "y_test.extend([2 for i in range(10)])\n",
    "\n",
    "n_classes = 3"
   ]
  },
  {
   "cell_type": "code",
   "execution_count": 88,
   "metadata": {
    "collapsed": true
   },
   "outputs": [],
   "source": [
    "def getConfusionMatrix(y_expected, y_predicted, k):\n",
    "    matrix = []\n",
    "    for i in range(k):\n",
    "        matrix.append([0 for i in range(k)])\n",
    "    for i in range(len(y_expected)):\n",
    "            matrix[y_expected[i]][y_predicted[i]] += 1\n",
    "    return matrix"
   ]
  },
  {
   "cell_type": "code",
   "execution_count": 89,
   "metadata": {
    "collapsed": true
   },
   "outputs": [],
   "source": [
    "def getPrecision(confusion_matrix, c):\n",
    "    return 1.0 * confusion_matrix[c][c] / sum(confusion_matrix[c])"
   ]
  },
  {
   "cell_type": "code",
   "execution_count": 90,
   "metadata": {
    "collapsed": true
   },
   "outputs": [],
   "source": [
    "def getRecall(confusion_matrix, c):\n",
    "    summ = 0.0\n",
    "    for i in range(len(confusion_matrix)):\n",
    "        summ += confusion_matrix[i][c]\n",
    "    return confusion_matrix[c][c] / summ"
   ]
  },
  {
   "cell_type": "code",
   "execution_count": 93,
   "metadata": {
    "collapsed": true
   },
   "outputs": [],
   "source": [
    "def print2dMatrix(matrix):\n",
    "    for raw in matrix:\n",
    "        print(raw)"
   ]
  },
  {
   "cell_type": "code",
   "execution_count": 94,
   "metadata": {
    "collapsed": false
   },
   "outputs": [
    {
     "name": "stdout",
     "output_type": "stream",
     "text": [
      "[10, 0, 0]\n",
      "[0, 9, 1]\n",
      "[0, 1, 9]\n"
     ]
    }
   ],
   "source": [
    "matrix = getConfusionMatrix(y_predicted, y_test, 3)\n",
    "print2dMatrix(matrix)"
   ]
  },
  {
   "cell_type": "code",
   "execution_count": 106,
   "metadata": {
    "collapsed": true
   },
   "outputs": [],
   "source": [
    "def testClassifier(classifier):\n",
    "    classifier.fit(X_train, y_train, n_classes)\n",
    "    y_predicted = classifier.predict(X_test, 2)\n",
    "    print(\"#predicted\")\n",
    "    print y_predicted\n",
    "    print(\"#confusion matrix\")\n",
    "    matrix = getConfusionMatrix(y_predicted, y_test, 3)\n",
    "    print(data.target_names)\n",
    "    print2dMatrix(matrix)\n",
    "    precisions = []\n",
    "    recalls = []\n",
    "    for i in range(3):\n",
    "        precisions.append(getPrecision(matrix, i))\n",
    "        recalls.append(getRecall(matrix, i))\n",
    "    print(\"#Precisions\")\n",
    "    print(precisions)\n",
    "    print(\"#Recalls\")\n",
    "    print(recalls)"
   ]
  },
  {
   "cell_type": "code",
   "execution_count": 107,
   "metadata": {
    "collapsed": true
   },
   "outputs": [],
   "source": [
    "knn = Knn(distance)"
   ]
  },
  {
   "cell_type": "code",
   "execution_count": 108,
   "metadata": {
    "collapsed": false
   },
   "outputs": [
    {
     "name": "stdout",
     "output_type": "stream",
     "text": [
      "#predicted\n",
      "[0, 0, 0, 0, 0, 0, 0, 0, 0, 0, 1, 2, 1, 1, 1, 1, 1, 1, 1, 1, 2, 1, 2, 2, 2, 2, 2, 2, 2, 2]\n",
      "#confusion matrix\n",
      "['setosa' 'versicolor' 'virginica']\n",
      "[10, 0, 0]\n",
      "[0, 9, 1]\n",
      "[0, 1, 9]\n",
      "#Precisions\n",
      "[1.0, 0.9, 0.9]\n",
      "#Recalls\n",
      "[1.0, 0.9, 0.9]\n"
     ]
    }
   ],
   "source": [
    "testClassifier(knn)"
   ]
  },
  {
   "cell_type": "code",
   "execution_count": null,
   "metadata": {
    "collapsed": true
   },
   "outputs": [],
   "source": []
  }
 ],
 "metadata": {
  "kernelspec": {
   "display_name": "Python 2",
   "language": "python",
   "name": "python2"
  },
  "language_info": {
   "codemirror_mode": {
    "name": "ipython",
    "version": 2
   },
   "file_extension": ".py",
   "mimetype": "text/x-python",
   "name": "python",
   "nbconvert_exporter": "python",
   "pygments_lexer": "ipython2",
   "version": "2.7.11"
  }
 },
 "nbformat": 4,
 "nbformat_minor": 0
}
