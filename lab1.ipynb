{
 "cells": [
  {
   "cell_type": "code",
   "execution_count": 1,
   "metadata": {
    "collapsed": true
   },
   "outputs": [],
   "source": [
    "import numpy as np\n",
    "from sklearn.datasets import load_iris"
   ]
  },
  {
   "cell_type": "code",
   "execution_count": 2,
   "metadata": {
    "collapsed": true
   },
   "outputs": [],
   "source": [
    "data = load_iris()"
   ]
  },
  {
   "cell_type": "code",
   "execution_count": null,
   "metadata": {
    "collapsed": false
   },
   "outputs": [],
   "source": [
    "print data.DESCR"
   ]
  },
  {
   "cell_type": "markdown",
   "metadata": {},
   "source": [
    "sepal - чашелистник<br>\n",
    "petal - лепесток"
   ]
  },
  {
   "cell_type": "code",
   "execution_count": null,
   "metadata": {
    "collapsed": false
   },
   "outputs": [],
   "source": [
    "data.data.shape"
   ]
  },
  {
   "cell_type": "code",
   "execution_count": null,
   "metadata": {
    "collapsed": false
   },
   "outputs": [],
   "source": [
    "data.feature_names"
   ]
  },
  {
   "cell_type": "code",
   "execution_count": null,
   "metadata": {
    "collapsed": false
   },
   "outputs": [],
   "source": [
    "data.target"
   ]
  },
  {
   "cell_type": "code",
   "execution_count": null,
   "metadata": {
    "collapsed": false
   },
   "outputs": [],
   "source": [
    "data.target_names"
   ]
  },
  {
   "cell_type": "code",
   "execution_count": 3,
   "metadata": {
    "collapsed": false
   },
   "outputs": [],
   "source": [
    "# normalization\n",
    "transpose_data = data.data.transpose()\n",
    "for i in range(data.data.shape[1]):\n",
    "    max_value = transpose_data[i].max()\n",
    "    transpose_data[i] = transpose_data[i] / max_value\n",
    "data.data = transpose_data.transpose()"
   ]
  },
  {
   "cell_type": "code",
   "execution_count": 4,
   "metadata": {
    "collapsed": false
   },
   "outputs": [],
   "source": [
    "setosa_data = data.data[:50, :]\n",
    "versicolor_data = data.data[50:100, :]\n",
    "virginica_data = data.data[100:, :]"
   ]
  },
  {
   "cell_type": "code",
   "execution_count": 5,
   "metadata": {
    "collapsed": false
   },
   "outputs": [],
   "source": [
    "np.random.shuffle(setosa_data)\n",
    "np.random.shuffle(versicolor_data)\n",
    "np.random.shuffle(virginica_data)"
   ]
  },
  {
   "cell_type": "code",
   "execution_count": 6,
   "metadata": {
    "collapsed": false
   },
   "outputs": [],
   "source": [
    "setosa_data_train = setosa_data[:40]\n",
    "setosa_data_test = setosa_data[40:]\n",
    "\n",
    "versicolor_data_train = versicolor_data[:40]\n",
    "versicolor_data_test = versicolor_data[40:]\n",
    "\n",
    "virginica_data_train = virginica_data[:40]\n",
    "virginica_data_test = virginica_data[40:]"
   ]
  },
  {
   "cell_type": "markdown",
   "metadata": {},
   "source": [
    "$$ρ(𝑢, 𝑥_𝑖 )=\\sqrt{∑_{𝑗=1}^{𝑛}(|𝑢^𝑗−𝑥_𝑖^𝑗|^2)} $$"
   ]
  },
  {
   "cell_type": "code",
   "execution_count": 7,
   "metadata": {
    "collapsed": true
   },
   "outputs": [],
   "source": [
    "def distance(u, x):\n",
    "    diff = u - x\n",
    "    return np.dot(np.transpose(diff), diff) ** 0.5    "
   ]
  },
  {
   "cell_type": "markdown",
   "metadata": {
    "collapsed": true
   },
   "source": [
    "Написать функции всех метрических алгоритмов, которые были на слайдах (ближайшего соседа, k ближайших соседей, k взвешанных ближайших соседей, метод окна Парзена, метод потенциальных функций). Применить (обучить) все эти алгоритмы на train выборке. Построить матрицу неточностей, для каждого класса вывести точность и полноту (все это сделать на тестовой выборке). Не пользоваться стандартными функциями."
   ]
  },
  {
   "cell_type": "code",
   "execution_count": 8,
   "metadata": {
    "collapsed": false
   },
   "outputs": [],
   "source": [
    "class Classifier(object):    \n",
    "    def __init__(self, distance):\n",
    "        self.distance = distance\n",
    "        \n",
    "    def fit(self, X, y, n_classes):\n",
    "        self.X_train = X\n",
    "        self.y_train = y\n",
    "        self.n_classes = n_classes\n",
    "        \n",
    "    def countDistances(self, u):\n",
    "        distances = []\n",
    "        for i in range(len(self.X_train)):\n",
    "            distances.append([self.distance(u, X_train[i]), i])\n",
    "        return distances        "
   ]
  },
  {
   "cell_type": "code",
   "execution_count": 11,
   "metadata": {
    "collapsed": false
   },
   "outputs": [],
   "source": [
    "class WeightKnn(Classifier):\n",
    "    def predictElement(self, u, distances): \n",
    "        classes = [0 for i in range(self.n_classes)]\n",
    "        sorted_distances = sorted(distances)\n",
    "        for i, s in enumerate(sorted_distances[0:self.k_neighbors]):\n",
    "            classes[y_train[s[1]]] += self.weight(i, s[1], u)\n",
    "        return  sorted(range(len(classes)), key=lambda i : classes[i], reverse=True)[0]\n",
    "    \n",
    "    def predict(self, X, k_neighbors, weight):\n",
    "        self.k_neighbors = k_neighbors\n",
    "        self.weight = weight\n",
    "        predicted = []\n",
    "        for x in X:\n",
    "            distances = self.countDistances(x)\n",
    "            predicted.append(self.predictElement(x, distances))\n",
    "        return predicted   "
   ]
  },
  {
   "cell_type": "code",
   "execution_count": 10,
   "metadata": {
    "collapsed": true
   },
   "outputs": [],
   "source": [
    "class Knn(WeightKnn):\n",
    "    def predict(self, X, k_neighbors):\n",
    "        return super(Knn, self).predict(X, k_neighbors, lambda i, j, y: 1)\n",
    "    "
   ]
  },
  {
   "cell_type": "code",
   "execution_count": 12,
   "metadata": {
    "collapsed": false
   },
   "outputs": [],
   "source": [
    "class Parzen(WeightKnn):\n",
    "    def predictParzenElement(self, u, kernel):\n",
    "        distances = self.countDistances(u)\n",
    "        h = 1.0 * sorted(distances)[self.k_neighbors - 1][0]\n",
    "        self.weight = lambda i, j, y: kernel(self.distance(self.X_train[j], y) / h)\n",
    "        return self.predictElement(u, distances) \n",
    "    \n",
    "    def predict(self, X, k_neighbors, kernel, *h):\n",
    "        self.k_neighbors = k_neighbors\n",
    "        if len(h) > 0:\n",
    "            return super(Parzen, self).predict(X, k_neighbors, lambda i, j, x: kernel(self.distance(self.X_train[j], x) / h[0]))\n",
    "        else:\n",
    "            self.kernel = kernel\n",
    "            predicted = []\n",
    "            for x in X:\n",
    "                predicted.append(self.predictParzenElement(x, kernel))\n",
    "            return predicted "
   ]
  },
  {
   "cell_type": "code",
   "execution_count": 13,
   "metadata": {
    "collapsed": false
   },
   "outputs": [],
   "source": [
    "class Potential(WeightKnn):\n",
    "    def predictPotentialElement(self, u):\n",
    "        distances = self.countDistances(u)\n",
    "        h = sorted(distances)[self.k_neighbors - 1][0]\n",
    "        self.weight = lambda i, j, u: self.potentials[j] * kernel(self.distance(self.X_train[j], u) / h)\n",
    "        return self.predictElement(u, distances) \n",
    "    \n",
    "    def predict(self, X, k_neighbors, kernel):\n",
    "        self.kernel = kernel\n",
    "        self.k_neighbors = k_neighbors\n",
    "        self.potentialSetup(0.05)\n",
    "        predicted = []\n",
    "        for x in X:\n",
    "            predicted.append(self.predictPotentialElement(x))\n",
    "        return predicted\n",
    "    \n",
    "    def potentialSetup(self, eps):\n",
    "        l = len(self.X_train)\n",
    "        self.potentials = [0 for i in range(l)]\n",
    "        n_errors = l\n",
    "        while 1.0 * n_errors / l > eps:\n",
    "            for i, x in enumerate(self.X_train):\n",
    "                n_errors = 0\n",
    "                if self.predictPotentialElement(x) != self.y_train:\n",
    "                    n_errors += 1\n",
    "                    self.potentials[i] += 1"
   ]
  },
  {
   "cell_type": "code",
   "execution_count": 14,
   "metadata": {
    "collapsed": false
   },
   "outputs": [],
   "source": [
    "X_train = []\n",
    "X_train.extend(setosa_data_train)\n",
    "X_train.extend(versicolor_data_train)\n",
    "X_train.extend(virginica_data_train)\n",
    "\n",
    "y_train = [0 for i in range(40)]\n",
    "y_train.extend([1 for i in range(40)])\n",
    "y_train.extend([2 for i in range(40)])\n",
    "\n",
    "X_test = []\n",
    "X_test.extend(setosa_data_test)\n",
    "X_test.extend(versicolor_data_test)\n",
    "X_test.extend(virginica_data_test)\n",
    "\n",
    "y_test = [0 for i in range(10)]\n",
    "y_test.extend([1 for i in range(10)])\n",
    "y_test.extend([2 for i in range(10)])\n",
    "\n",
    "n_classes = 3"
   ]
  },
  {
   "cell_type": "code",
   "execution_count": 15,
   "metadata": {
    "collapsed": true
   },
   "outputs": [],
   "source": [
    "def getConfusionMatrix(y_expected, y_predicted, k):\n",
    "    matrix = []\n",
    "    for i in range(k):\n",
    "        matrix.append([0 for i in range(k)])\n",
    "    for i in range(len(y_expected)):\n",
    "            matrix[y_expected[i]][y_predicted[i]] += 1\n",
    "    return matrix"
   ]
  },
  {
   "cell_type": "code",
   "execution_count": 16,
   "metadata": {
    "collapsed": true
   },
   "outputs": [],
   "source": [
    "def getPrecision(confusion_matrix, c):\n",
    "    summ = sum(confusion_matrix[c])\n",
    "    if summ is not 0:\n",
    "        return 1.0 * confusion_matrix[c][c] / summ"
   ]
  },
  {
   "cell_type": "code",
   "execution_count": 17,
   "metadata": {
    "collapsed": false
   },
   "outputs": [],
   "source": [
    "def getRecall(confusion_matrix, c):\n",
    "    summ = 0.0\n",
    "    for i in range(len(confusion_matrix)):\n",
    "        summ += confusion_matrix[i][c]\n",
    "    if summ is not 0:\n",
    "        return confusion_matrix[c][c] / summ"
   ]
  },
  {
   "cell_type": "code",
   "execution_count": 18,
   "metadata": {
    "collapsed": true
   },
   "outputs": [],
   "source": [
    "def print2dMatrix(matrix):\n",
    "    for raw in matrix:\n",
    "        print(raw)"
   ]
  },
  {
   "cell_type": "code",
   "execution_count": 19,
   "metadata": {
    "collapsed": true
   },
   "outputs": [],
   "source": [
    "def testClassifier(classifier, *args):\n",
    "    classifier.fit(X_train, y_train, n_classes)\n",
    "    y_predicted = classifier.predict(X_test, *args)\n",
    "    print(\"#predicted\")\n",
    "    print y_predicted\n",
    "    print(\"#confusion matrix\")\n",
    "    matrix = getConfusionMatrix(y_predicted, y_test, 3)\n",
    "    print(data.target_names)\n",
    "    print2dMatrix(matrix)\n",
    "    precisions = []\n",
    "    recalls = []\n",
    "    for i in range(3):\n",
    "        precisions.append(getPrecision(matrix, i))\n",
    "        recalls.append(getRecall(matrix, i))\n",
    "    print(\"#Precisions\")\n",
    "    print(precisions)\n",
    "    print(\"#Recalls\")\n",
    "    print(recalls)"
   ]
  },
  {
   "cell_type": "code",
   "execution_count": 20,
   "metadata": {
    "collapsed": true
   },
   "outputs": [],
   "source": [
    "knn = Knn(distance)"
   ]
  },
  {
   "cell_type": "code",
   "execution_count": 21,
   "metadata": {
    "collapsed": false
   },
   "outputs": [
    {
     "name": "stdout",
     "output_type": "stream",
     "text": [
      "# KNN, N=1\n",
      "#predicted\n",
      "[0, 0, 0, 0, 0, 0, 0, 0, 0, 0, 1, 1, 1, 1, 1, 1, 1, 1, 1, 1, 2, 2, 2, 2, 2, 2, 2, 2, 2, 2]\n",
      "#confusion matrix\n",
      "['setosa' 'versicolor' 'virginica']\n",
      "[10, 0, 0]\n",
      "[0, 10, 0]\n",
      "[0, 0, 10]\n",
      "#Precisions\n",
      "[1.0, 1.0, 1.0]\n",
      "#Recalls\n",
      "[1.0, 1.0, 1.0]\n",
      "\n",
      "# KNN, N=5\n",
      "#predicted\n",
      "[0, 0, 0, 0, 0, 0, 0, 0, 0, 0, 1, 1, 1, 1, 1, 1, 1, 1, 1, 1, 2, 2, 2, 2, 2, 2, 1, 1, 2, 2]\n",
      "#confusion matrix\n",
      "['setosa' 'versicolor' 'virginica']\n",
      "[10, 0, 0]\n",
      "[0, 10, 2]\n",
      "[0, 0, 8]\n",
      "#Precisions\n",
      "[1.0, 0.8333333333333334, 1.0]\n",
      "#Recalls\n",
      "[1.0, 1.0, 0.8]\n"
     ]
    }
   ],
   "source": [
    "print(\"# KNN, N=1\")\n",
    "testClassifier(knn, 1)\n",
    "print\n",
    "print(\"# KNN, N=5\")\n",
    "testClassifier(knn, 2)"
   ]
  },
  {
   "cell_type": "code",
   "execution_count": 22,
   "metadata": {
    "collapsed": false
   },
   "outputs": [],
   "source": [
    "weightKnn = WeightKnn(distance)"
   ]
  },
  {
   "cell_type": "code",
   "execution_count": 23,
   "metadata": {
    "collapsed": false
   },
   "outputs": [
    {
     "name": "stdout",
     "output_type": "stream",
     "text": [
      "# Weighted KNN, N=2, q = 0.5\n",
      "#predicted\n",
      "[0, 0, 0, 0, 0, 0, 0, 0, 0, 0, 1, 1, 1, 1, 1, 1, 1, 1, 1, 1, 2, 2, 2, 2, 2, 2, 2, 2, 2, 2]\n",
      "#confusion matrix\n",
      "['setosa' 'versicolor' 'virginica']\n",
      "[10, 0, 0]\n",
      "[0, 10, 0]\n",
      "[0, 0, 10]\n",
      "#Precisions\n",
      "[1.0, 1.0, 1.0]\n",
      "#Recalls\n",
      "[1.0, 1.0, 1.0]\n"
     ]
    }
   ],
   "source": [
    "print(\"# Weighted KNN, N=2, q = 0.5\")\n",
    "N = 2\n",
    "q = 0.5\n",
    "testClassifier(weightKnn, N, lambda i, x, u: q**i)"
   ]
  },
  {
   "cell_type": "code",
   "execution_count": 24,
   "metadata": {
    "collapsed": true
   },
   "outputs": [],
   "source": [
    "ParzenClassifier = Parzen(distance)"
   ]
  },
  {
   "cell_type": "code",
   "execution_count": 25,
   "metadata": {
    "collapsed": true
   },
   "outputs": [],
   "source": [
    "def kernel1(r):\n",
    "    if r < 0 or r > 1:\n",
    "        return 0\n",
    "    return 1 * ((1 - r) ** 2)"
   ]
  },
  {
   "cell_type": "code",
   "execution_count": 26,
   "metadata": {
    "collapsed": false
   },
   "outputs": [
    {
     "name": "stdout",
     "output_type": "stream",
     "text": [
      "# Fixed Parzen, N=10  h = 0.5\n",
      "#predicted\n",
      "[0, 0, 0, 0, 0, 0, 0, 0, 0, 0, 1, 1, 1, 1, 1, 1, 1, 1, 1, 1, 2, 2, 2, 2, 2, 2, 2, 2, 2, 2]\n",
      "#confusion matrix\n",
      "['setosa' 'versicolor' 'virginica']\n",
      "[10, 0, 0]\n",
      "[0, 10, 0]\n",
      "[0, 0, 10]\n",
      "#Precisions\n",
      "[1.0, 1.0, 1.0]\n",
      "#Recalls\n",
      "[1.0, 1.0, 1.0]\n"
     ]
    }
   ],
   "source": [
    "print(\"# Fixed Parzen, N=10  h = 0.5\")\n",
    "h = 0.5,\n",
    "N = 10\n",
    "kernel = kernel1\n",
    "testClassifier(ParzenClassifier, N, kernel, h)"
   ]
  },
  {
   "cell_type": "code",
   "execution_count": 27,
   "metadata": {
    "collapsed": false
   },
   "outputs": [
    {
     "name": "stdout",
     "output_type": "stream",
     "text": [
      "# Parzen, N=10\n",
      "#predicted\n",
      "[0, 0, 0, 0, 0, 0, 0, 0, 0, 0, 1, 1, 1, 1, 1, 1, 1, 1, 1, 1, 2, 2, 2, 2, 2, 2, 2, 2, 2, 2]\n",
      "#confusion matrix\n",
      "['setosa' 'versicolor' 'virginica']\n",
      "[10, 0, 0]\n",
      "[0, 10, 0]\n",
      "[0, 0, 10]\n",
      "#Precisions\n",
      "[1.0, 1.0, 1.0]\n",
      "#Recalls\n",
      "[1.0, 1.0, 1.0]\n"
     ]
    }
   ],
   "source": [
    "print(\"# Parzen, N=10\")\n",
    "N = 10\n",
    "kernel = kernel1\n",
    "testClassifier(ParzenClassifier, N, kernel)"
   ]
  },
  {
   "cell_type": "code",
   "execution_count": 28,
   "metadata": {
    "collapsed": false
   },
   "outputs": [],
   "source": [
    "potential = Potential(distance)"
   ]
  },
  {
   "cell_type": "code",
   "execution_count": 29,
   "metadata": {
    "collapsed": true
   },
   "outputs": [],
   "source": [
    "def kernelPotential(r):\n",
    "    return 1.0 / (r + 1.0)"
   ]
  },
  {
   "cell_type": "code",
   "execution_count": 30,
   "metadata": {
    "collapsed": false
   },
   "outputs": [
    {
     "name": "stdout",
     "output_type": "stream",
     "text": [
      "# Potential, N = 10\n",
      "#predicted\n",
      "[0, 0, 0, 0, 0, 0, 0, 0, 0, 0, 1, 1, 1, 1, 1, 1, 1, 1, 1, 1, 2, 2, 2, 2, 2, 2, 2, 2, 2, 2]\n",
      "#confusion matrix\n",
      "['setosa' 'versicolor' 'virginica']\n",
      "[10, 0, 0]\n",
      "[0, 10, 0]\n",
      "[0, 0, 10]\n",
      "#Precisions\n",
      "[1.0, 1.0, 1.0]\n",
      "#Recalls\n",
      "[1.0, 1.0, 1.0]\n"
     ]
    }
   ],
   "source": [
    "print(\"# Potential, N = 10\")\n",
    "N = 10\n",
    "kernel = kernelPotential\n",
    "testClassifier(potential, N, kernel)"
   ]
  },
  {
   "cell_type": "code",
   "execution_count": null,
   "metadata": {
    "collapsed": true
   },
   "outputs": [],
   "source": []
  }
 ],
 "metadata": {
  "kernelspec": {
   "display_name": "Python 2",
   "language": "python",
   "name": "python2"
  },
  "language_info": {
   "codemirror_mode": {
    "name": "ipython",
    "version": 2
   },
   "file_extension": ".py",
   "mimetype": "text/x-python",
   "name": "python",
   "nbconvert_exporter": "python",
   "pygments_lexer": "ipython2",
   "version": "2.7.11"
  }
 },
 "nbformat": 4,
 "nbformat_minor": 0
}
