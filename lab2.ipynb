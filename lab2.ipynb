{
 "cells": [
  {
   "cell_type": "code",
   "execution_count": 1,
   "metadata": {
    "collapsed": true
   },
   "outputs": [],
   "source": [
    "import math\n",
    "import numpy as np\n",
    "from sklearn.datasets import load_iris\n",
    "from sklearn import linear_model\n",
    "from matplotlib import pyplot as plt\n",
    "%matplotlib inline"
   ]
  },
  {
   "cell_type": "code",
   "execution_count": 2,
   "metadata": {
    "collapsed": true
   },
   "outputs": [],
   "source": [
    "data = load_iris()"
   ]
  },
  {
   "cell_type": "code",
   "execution_count": 3,
   "metadata": {
    "collapsed": true
   },
   "outputs": [],
   "source": [
    "setosa_data = data.data[:50, :]\n",
    "versicolor_data = data.data[50:100, :]\n",
    "virginica_data = data.data[100:, :]"
   ]
  },
  {
   "cell_type": "code",
   "execution_count": 4,
   "metadata": {
    "collapsed": false
   },
   "outputs": [],
   "source": [
    "np.random.shuffle(setosa_data)\n",
    "np.random.shuffle(versicolor_data)\n",
    "np.random.shuffle(virginica_data)"
   ]
  },
  {
   "cell_type": "code",
   "execution_count": 5,
   "metadata": {
    "collapsed": true
   },
   "outputs": [],
   "source": [
    "setosa_data_train = setosa_data[:40]\n",
    "setosa_data_test = setosa_data[40:]\n",
    "\n",
    "versicolor_data_train = versicolor_data[:40]\n",
    "versicolor_data_test = versicolor_data[40:]\n",
    "\n",
    "virginica_data_train = virginica_data[:40]\n",
    "virginica_data_test = virginica_data[40:]"
   ]
  },
  {
   "cell_type": "code",
   "execution_count": 6,
   "metadata": {
    "collapsed": false
   },
   "outputs": [],
   "source": [
    "X_train = []\n",
    "X_train.extend(setosa_data_train)\n",
    "X_train.extend(versicolor_data_train)\n",
    "X_train.extend(virginica_data_train)\n",
    "\n",
    "# 1 if setosa class, 0 else\n",
    "y_train = [1 for i in range(40)]\n",
    "y_train.extend([0 for i in range(40)])\n",
    "y_train.extend([0 for i in range(40)])\n",
    "\n",
    "X_test = []\n",
    "X_test.extend(setosa_data_test)\n",
    "X_test.extend(versicolor_data_test)\n",
    "X_test.extend(virginica_data_test)\n",
    "\n",
    "y_test = [1 for i in range(10)]\n",
    "y_test.extend([0 for i in range(10)])\n",
    "y_test.extend([0 for i in range(10)])\n",
    "\n",
    "n_dims = 4"
   ]
  },
  {
   "cell_type": "code",
   "execution_count": 7,
   "metadata": {
    "collapsed": false
   },
   "outputs": [],
   "source": [
    "class LogisticRegression:\n",
    "    def __init__(self, n_dims):\n",
    "        self.thetas = [0 for i in range(n_dims)]\n",
    "        self.alpha = 0.001\n",
    "        \n",
    "    def fit(self, X, y):\n",
    "        self.X_train = X\n",
    "        self.y_train = y\n",
    "        \n",
    "    def sigmoid(self, z):\n",
    "        return 1.0 / (1 + math.e**(-z))\n",
    "    \n",
    "    def confugureSettings(self, n_iters):\n",
    "        for i in range(n_iters):\n",
    "            for j in range(len(self.X_train)):\n",
    "                x = self.X_train[j]\n",
    "                predicted = self.predictElement(x)\n",
    "                delta = self.y_train[j] - predicted\n",
    "                for k, theta in enumerate(self.thetas):\n",
    "                    self.thetas[k] += self.alpha * delta * x[k]\n",
    "                    \n",
    "    def predictElement(self, x):\n",
    "        return self.sigmoid(np.dot(np.transpose(x), self.thetas))\n",
    "    \n",
    "    def predict(self, X):\n",
    "        predicted = []\n",
    "        for x in X:\n",
    "            predicted.append(self.predictElement(x))\n",
    "        return predicted"
   ]
  },
  {
   "cell_type": "code",
   "execution_count": 8,
   "metadata": {
    "collapsed": true
   },
   "outputs": [],
   "source": [
    "n_iters = 500"
   ]
  },
  {
   "cell_type": "code",
   "execution_count": 9,
   "metadata": {
    "collapsed": false
   },
   "outputs": [],
   "source": [
    "logisticRegression = LogisticRegression(n_dims)\n",
    "logisticRegression.fit(X_train, y_train)\n",
    "logisticRegression.confugureSettings(n_iters)"
   ]
  },
  {
   "cell_type": "code",
   "execution_count": 10,
   "metadata": {
    "collapsed": true
   },
   "outputs": [],
   "source": [
    "predicted = logisticRegression.predict(X_test)"
   ]
  },
  {
   "cell_type": "code",
   "execution_count": 11,
   "metadata": {
    "collapsed": true
   },
   "outputs": [],
   "source": [
    "def getROCPoint(classes):\n",
    "    NP = [20, 10]\n",
    "    TP = 0\n",
    "    FP = 0\n",
    "    for i in range(len(X_test)):\n",
    "        if classes[i] is 1:\n",
    "            if y_test[i] is 1:\n",
    "                TP += 1\n",
    "            else:\n",
    "                FP += 1\n",
    "    return (1.0 * FP / NP[0], 1.0 * TP / NP[1])"
   ]
  },
  {
   "cell_type": "code",
   "execution_count": 12,
   "metadata": {
    "collapsed": false
   },
   "outputs": [],
   "source": [
    "FPRs = []\n",
    "TPRs = []\n",
    "for threshold in np.arange(1, 0.0, -0.00001):\n",
    "    classes = []\n",
    "    for p in predicted:\n",
    "        classes.append(0 if p < threshold else 1)\n",
    "    point = getROCPoint(classes)\n",
    "    FPRs.append(point[0])\n",
    "    TPRs.append(point[1])"
   ]
  },
  {
   "cell_type": "code",
   "execution_count": 13,
   "metadata": {
    "collapsed": false
   },
   "outputs": [],
   "source": [
    "def countROCAUC(FPRs, TPRs):\n",
    "    area = 0.0\n",
    "    for i in range(len(FPRs) - 1):\n",
    "        area += (FPRs[i + 1] - FPRs[i]) * (TPRs[i + 1] + TPRs[i]) / 2.0\n",
    "    return area"
   ]
  },
  {
   "cell_type": "code",
   "execution_count": 14,
   "metadata": {
    "collapsed": false
   },
   "outputs": [
    {
     "data": {
      "text/plain": [
       "1.0"
      ]
     },
     "execution_count": 14,
     "metadata": {},
     "output_type": "execute_result"
    }
   ],
   "source": [
    "# ROCAUC:\n",
    "countROCAUC(FPRs, TPRs)"
   ]
  },
  {
   "cell_type": "code",
   "execution_count": 15,
   "metadata": {
    "collapsed": false
   },
   "outputs": [
    {
     "data": {
      "text/plain": [
       "<module 'matplotlib.pyplot' from '/home/yulya/anaconda2/lib/python2.7/site-packages/matplotlib/pyplot.pyc'>"
      ]
     },
     "execution_count": 15,
     "metadata": {},
     "output_type": "execute_result"
    },
    {
     "data": {
      "image/png": "[encoded data removed]",
      "text/plain": [
       "<matplotlib.figure.Figure at 0x7f39ec2db690>"
      ]
     },
     "metadata": {},
     "output_type": "display_data"
    }
   ],
   "source": [
    "plt.plot(FPRs, TPRs, color=\"red\", marker=\"o\")\n",
    "plt.axis([-0.1, 1.1, -0.1, 1.1])\n",
    "plt.title(u'ROC-curve')\n",
    "plt.xlabel(u'FPR')\n",
    "plt.ylabel(u'TPR')\n",
    "plt.grid()\n",
    "plt"
   ]
  },
  {
   "cell_type": "code",
   "execution_count": 16,
   "metadata": {
    "collapsed": false
   },
   "outputs": [
    {
     "data": {
      "text/plain": [
       "<matplotlib.figure.Figure at 0x7f39ea071790>"
      ]
     },
     "metadata": {},
     "output_type": "display_data"
    }
   ],
   "source": [
    "plt.savefig('ROC.png', format = 'png')"
   ]
  },
  {
   "cell_type": "code",
   "execution_count": null,
   "metadata": {
    "collapsed": true
   },
   "outputs": [],
   "source": []
  }
 ],
 "metadata": {
  "kernelspec": {
   "display_name": "Python 2",
   "language": "python",
   "name": "python2"
  },
  "language_info": {
   "codemirror_mode": {
    "name": "ipython",
    "version": 2
   },
   "file_extension": ".py",
   "mimetype": "text/x-python",
   "name": "python",
   "nbconvert_exporter": "python",
   "pygments_lexer": "ipython2",
   "version": "2.7.11"
  }
 },
 "nbformat": 4,
 "nbformat_minor": 0
}
